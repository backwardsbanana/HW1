{
  "nbformat": 4,
  "nbformat_minor": 0,
  "metadata": {
    "colab": {
      "name": "HW1.ipynb",
      "provenance": [],
      "collapsed_sections": []
    },
    "kernelspec": {
      "name": "python3",
      "display_name": "Python 3"
    },
    "language_info": {
      "name": "python"
    }
  },
  "cells": [
    {
      "cell_type": "code",
      "execution_count": null,
      "metadata": {
        "id": "xHedu2YHXrgY"
      },
      "outputs": [],
      "source": [
        "import pandas as pd\n",
        "frame = pd.read_csv(\"/content/drive/MyDrive/olympic_medals.csv\")"
      ]
    },
    {
      "cell_type": "markdown",
      "source": [
        "(a) Find the size of the data frame. How many rows, how many columns?"
      ],
      "metadata": {
        "id": "8YnlojDGmDXO"
      }
    },
    {
      "cell_type": "code",
      "source": [
        "frame.shape"
      ],
      "metadata": {
        "id": "MMJKKrGimRpp"
      },
      "execution_count": null,
      "outputs": []
    },
    {
      "cell_type": "markdown",
      "source": [
        "(b) Use the appropriate function to report the data types for all columns"
      ],
      "metadata": {
        "id": "BqiJTSgCmlXr"
      }
    },
    {
      "cell_type": "code",
      "source": [
        "frame.dtypes"
      ],
      "metadata": {
        "id": "5A3yAK9hmnih"
      },
      "execution_count": null,
      "outputs": []
    },
    {
      "cell_type": "markdown",
      "source": [
        "(c) Find how many unique cities matches were held at."
      ],
      "metadata": {
        "id": "oKAx5X2cmz5D"
      }
    },
    {
      "cell_type": "code",
      "source": [
        "len(frame[\"Location\"].unique())"
      ],
      "metadata": {
        "id": "d7r50Pijm3Kk"
      },
      "execution_count": null,
      "outputs": []
    },
    {
      "cell_type": "code",
      "source": [
        "frame[\"Location\"].value_counts()"
      ],
      "metadata": {
        "id": "HmniZhhbnIEu"
      },
      "execution_count": null,
      "outputs": []
    },
    {
      "cell_type": "markdown",
      "source": [
        "(d) Find how many medals the USA team won in total."
      ],
      "metadata": {
        "id": "cO6tSAM9nXSc"
      }
    },
    {
      "cell_type": "code",
      "source": [
        "len(frame.loc[frame[\"Nationality\"] == \"USA\"])"
      ],
      "metadata": {
        "id": "_JTt2wZTnUGF"
      },
      "execution_count": null,
      "outputs": []
    },
    {
      "cell_type": "markdown",
      "source": [
        "(e) Find the total number of medals for each Nationality."
      ],
      "metadata": {
        "id": "mkRjZjOMniPE"
      }
    },
    {
      "cell_type": "code",
      "source": [
        "frame.groupby(by=\"Nationality\")[\"Medal\"].count().sort_values(ascending=False)"
      ],
      "metadata": {
        "id": "mbYhRt5Onpqx"
      },
      "execution_count": null,
      "outputs": []
    },
    {
      "cell_type": "code",
      "source": [
        "medals_by_nat = pd.DataFrame(columns=[\"Nation\", \"Bronze\", \"Silver\", \"Gold\", \"Total\"])\n",
        "for i in frame[\"Nationality\"].unique():\n",
        "\tbronze = len(frame[(frame[\"Nationality\"] == i) & (frame[\"Medal\"] == \"B\")])\n",
        "\tsilver = len(frame[(frame[\"Nationality\"] == i) & (frame[\"Medal\"] == \"S\")])\n",
        "\tgold = len(frame[(frame[\"Nationality\"] == i) & (frame[\"Medal\"] == \"G\")])\n",
        "\trow = pd.DataFrame([[i, bronze, silver, gold, bronze + silver + gold]], columns=[\"Nation\", \"Bronze\", \"Silver\", \"Gold\", \"Total\"])\n",
        "\tmedals_by_nat = pd.concat([medals_by_nat, row], ignore_index=True)\n",
        "\n",
        "print(medals_by_nat.sort_values(by=\"Total\", ascending=False, ignore_index=True).to_string())"
      ],
      "metadata": {
        "id": "nF8_BPya3oFw"
      },
      "execution_count": null,
      "outputs": []
    }
  ]
}